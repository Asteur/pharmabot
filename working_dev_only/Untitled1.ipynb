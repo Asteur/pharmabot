{
 "cells": [
  {
   "cell_type": "code",
   "execution_count": 1,
   "metadata": {
    "collapsed": true
   },
   "outputs": [],
   "source": [
    "import sqlite3, re\n",
    "\n",
    "# change this to the relevant config file\n",
    "from novartis_config import req_sub_dict"
   ]
  },
  {
   "cell_type": "code",
   "execution_count": 2,
   "metadata": {
    "collapsed": true
   },
   "outputs": [],
   "source": [
    "class DataBase():\n",
    "    def __init__(self, database, req_sub_dict):\n",
    "        # connect to database\n",
    "        conn = sqlite3.connect(database+'.sqlite')\n",
    "        globals()['cur'] = conn.cursor()\n",
    "        self.req_sub_dict = req_sub_dict\n",
    "        \n",
    "    def sub_reqs(self, string, context_details):\n",
    "        # searches through entity placeholders in text and substitutes relevant context to the conversation\n",
    "        for requirement in self.req_sub_dict.keys():\n",
    "            if requirement in string:\n",
    "                exec(self.req_sub_dict[requirement][0], locals())\n",
    "                exec(self.req_sub_dict[requirement][1], locals())\n",
    "                string = re.sub(requirement, locals()['sub_data'], string)\n",
    "        return string\n",
    "    \n",
    "    def query(self, query, answer, context_details: dict):\n",
    "        query = self.sub_reqs(query, context_details)\n",
    "        cur.execute(query)\n",
    "        try:\n",
    "            exec(answer, globals())\n",
    "            answer_text = globals()['answer_text']\n",
    "        except Exception as e:\n",
    "            print(e)\n",
    "            answer_text = 'sorry, there is no information for that.'\n",
    "        return answer_text"
   ]
  },
  {
   "cell_type": "code",
   "execution_count": 3,
   "metadata": {
    "collapsed": true
   },
   "outputs": [],
   "source": [
    "database = 'NovartisQA'"
   ]
  },
  {
   "cell_type": "code",
   "execution_count": 4,
   "metadata": {
    "collapsed": true
   },
   "outputs": [],
   "source": [
    "db = DataBase(database, req_sub_dict)"
   ]
  },
  {
   "cell_type": "code",
   "execution_count": 5,
   "metadata": {
    "collapsed": true
   },
   "outputs": [],
   "source": [
    "def get_question_data(question_id):\n",
    "    cur.execute('SELECT * FROM Questions WHERE id = ?', (question_id, ))\n",
    "    question_data = cur.fetchall()[0]\n",
    "    # sql query\n",
    "    query = question_data[5]\n",
    "    # answer\n",
    "    answer = question_data[6]\n",
    "    return query, answer"
   ]
  },
  {
   "cell_type": "code",
   "execution_count": 6,
   "metadata": {
    "collapsed": true
   },
   "outputs": [],
   "source": [
    "query, answer = get_question_data(3)"
   ]
  },
  {
   "cell_type": "code",
   "execution_count": 7,
   "metadata": {
    "collapsed": true
   },
   "outputs": [],
   "source": [
    "from synthetic_pharma_data import get_settings"
   ]
  },
  {
   "cell_type": "code",
   "execution_count": 8,
   "metadata": {
    "collapsed": true
   },
   "outputs": [],
   "source": [
    "context_details = get_settings()"
   ]
  },
  {
   "cell_type": "code",
   "execution_count": 9,
   "metadata": {},
   "outputs": [
    {
     "data": {
      "text/plain": [
       "{'<age_group>': 'child',\n",
       " '<condition>': 'pregnant',\n",
       " '<delivery>': 'oral',\n",
       " '<drug_name>': 'Paclitaxel',\n",
       " '<strength>': '10',\n",
       " '<symptom>': 'depression',\n",
       " '<units>': 'grams'}"
      ]
     },
     "execution_count": 9,
     "metadata": {},
     "output_type": "execute_result"
    }
   ],
   "source": [
    "context_details"
   ]
  },
  {
   "cell_type": "code",
   "execution_count": 10,
   "metadata": {},
   "outputs": [
    {
     "name": "stdout",
     "output_type": "stream",
     "text": [
      "Note: Contact of the undiluted concentrate with plasticized PVC equipment or devices used to prepare solutions for infusion is not recommended. In order to minimize patient exposure to the plasticizer DEHP [di-(2-ethylhexyl)phthalate], which may be leached from PVC infusion bags or sets, diluted paclitaxel solutions should be stored in bottles (glass, polypropylene) or plastic bags (polypropylene, polyolefin) and administered through polyethylene-lined administration sets. All patients should be premedicated prior to paclitaxel administration in order to prevent severe hypersensitivity reactions. Such premedication may consist of dexamethasone 20 mg PO administered approximately 12 and 6 hou\n"
     ]
    },
    {
     "data": {
      "text/plain": [
       "'Note: Contact of the undiluted concentrate with plasticized PVC equipment or devices used to prepare solutions for infusion is not recommended. In order to minimize patient exposure to the plasticizer DEHP [di-(2-ethylhexyl)phthalate], which may be leached from PVC infusion bags or sets, diluted paclitaxel solutions should be stored in bottles (glass, polypropylene) or plastic bags (polypropylene, polyolefin) and administered through polyethylene-lined administration sets. All patients should be premedicated prior to paclitaxel administration in order to prevent severe hypersensitivity reactions. Such premedication may consist of dexamethasone 20 mg PO administered approximately 12 and 6 hou'"
      ]
     },
     "execution_count": 10,
     "metadata": {},
     "output_type": "execute_result"
    }
   ],
   "source": [
    "db.query(query, answer, context_details)"
   ]
  },
  {
   "cell_type": "code",
   "execution_count": 11,
   "metadata": {
    "collapsed": true
   },
   "outputs": [],
   "source": [
    "ln = \"\"\"bye\t\"[\"\"data = 'no problem' \"\", 'answer_text = data', [], []]\"\n",
    "check_update\t\"[\"\"data = 'ok, is there anything else to update?' \"\", 'answer_text = data', [], []]\"\n",
    "information_retrieval\t\"[\"\"data = 'ok, let me look in to that' \"\", 'answer_text = data', [], []]\"\n",
    "information_retrieval+dose_question\t\"['cur.execute(\"\"SELECT Drugs.name, dose, units, Periodicities.periodicity                         FROM Dosages JOIN Drugs JOIN Conditions JOIN Periodicities JOIN Delivery JOIN Ages                         ON Drugs.id = drug_id AND Periodicities.id = period_id AND age_id = Ages.id                         WHERE Drugs.name = \\'<drug_name>\\' AND Ages.age_group = \\'<age_group>\\' AND Delivery.method = \\'<delivery>\\'                          AND strength = \\'<strength>\\' \"\")', \"\"data = cur.fetchall(); answer_text = 'The dosage for %s is %s %s per %s' % data[0]\"\", [3, 0, 2, 4], []]\"\n",
    "information_retrieval+ingredient_question\t\"['cur.execute(\"\"SELECT ingredients                         FROM Drug_versions JOIN Drugs JOIN Delivery                           ON Drugs.id = drug_id AND Delivery.id = delivery_id                          WHERE Drugs.name = \\'<drug_name>\\' AND Delivery.method = \\'<delivery>\\'\"\")', 'answer_text = cur.fetchall()[0][0]', [3, 2], []]\"\n",
    "information_retrieval+should_question\t\"['cur.execute(\"\"SELECT advice                          FROM Contraindications JOIN Drugs JOIN Conditions                          ON drug_id = Drugs.id AND condition_id = Conditions.id                         WHERE Drugs.name = \\'<drug_name>\\' AND Conditions.condition = \\'<condition>\\'\"\")', 'answer_text = cur.fetchall()[0][0]', [3, 1], []]\"\n",
    "information_retrieval+side_effect_question\t\"['cur.execute(\"\"SELECT Symptoms.symptom, Severities.severity, Drugs.name, advice                         FROM Complaint JOIN Drugs JOIN Symptoms JOIN Severities                          ON Drugs.id = drug_id AND Symptoms.id = symptom_id AND Severities.id = severity_id                         WHERE Drugs.name = \\'<drug_name>\\' AND Symptoms.symptom = \\'<symptom>\\' \"\")', \"\"data = cur.fetchall(); answer_text = '%s is a %s side effect of %s. %s' % data[0]\"\", [3, 5], []]\"\n",
    "information_retrieval+store_question\t\"['cur.execute(\"\"SELECT storage                         FROM Drug_versions JOIN Drugs JOIN Delivery                           ON Drugs.id = drug_id AND Delivery.id = delivery_id                          WHERE Drugs.name = \\'<drug_name>\\' AND Delivery.method = \\'<delivery>\\'\"\")', 'answer_text = cur.fetchall()[0][0]', [3, 2], []]\"\n",
    "information_retrieval+usage_question\t\"['cur.execute(\"\"SELECT instructions                          FROM Drug_versions JOIN Drugs JOIN Delivery                          ON drug_id = Drugs.id AND delivery_id = Delivery.id                         WHERE Drugs.name = \\'<drug_name>\\' AND Delivery.method = \\'<delivery>\\' \"\")', 'answer_text = cur.fetchall()[0][0]', [3, 2], []]\"\n",
    "information_retrieval+what_question\t\"['cur.execute(\"\"SELECT indication FROM Drugs WHERE name = \\'<drug_name>\\'\"\")', 'answer_text = cur.fetchall()[0][0]', [3], []]\"\n",
    "no_information\t\"[\"\"data = 'sorry, there is no information for that.' \"\", 'answer_text = data', [], []]\"\n",
    "request_information+<age_group>\t\"[\"\"data = 'for which age group?'\"\", 'answer_text = data', [], [0]]\"\n",
    "request_information+<condition>\t\"[\"\"data = '<drug_name> may not be recommended for people with <contraindications>, do you have any of these?'\"\", 'answer_text = data', [], [1]]\"\n",
    "request_information+<delivery>\t\"[\"\"data = 'what version of <drug_name> is that, for example: oral, intravenous or subcutaneous?'\"\", 'answer_text = data', [], [2]]\"\n",
    "request_information+<strength>\t\"[\"\"data = 'what is the strength of the drug?'\"\", 'answer_text = data', [], [4]]\"\n",
    "request_information+<symptom>\t\"[\"\"data = 'these are some common side effects of <drug_name>: <side_effects>, are you seeing any other symptoms?'\"\", 'answer_text = data', [], [5]]\"\n",
    "request_information+<units>\t\"[\"\"data = 'What are the units of the drug?'\"\", 'answer_text = data', [], [6]]\"\n",
    "welcomemsg\t\"[\"\"data = 'hello, what can I help you with today?' \"\", 'answer_text = data', [], []]\"\n",
    "\"\"\""
   ]
  },
  {
   "cell_type": "code",
   "execution_count": 12,
   "metadata": {
    "collapsed": true
   },
   "outputs": [],
   "source": [
    "act, template = ln.strip('\\n').split('\\t', 1)"
   ]
  },
  {
   "cell_type": "code",
   "execution_count": 13,
   "metadata": {},
   "outputs": [
    {
     "data": {
      "text/plain": [
       "'bye'"
      ]
     },
     "execution_count": 13,
     "metadata": {},
     "output_type": "execute_result"
    }
   ],
   "source": [
    "act"
   ]
  },
  {
   "cell_type": "code",
   "execution_count": 14,
   "metadata": {},
   "outputs": [
    {
     "data": {
      "text/plain": [
       "'\"[\"\"data = \\'no problem\\' \"\", \\'answer_text = data\\', [], []]\"\\ncheck_update\\t\"[\"\"data = \\'ok, is there anything else to update?\\' \"\", \\'answer_text = data\\', [], []]\"\\ninformation_retrieval\\t\"[\"\"data = \\'ok, let me look in to that\\' \"\", \\'answer_text = data\\', [], []]\"\\ninformation_retrieval+dose_question\\t\"[\\'cur.execute(\"\"SELECT Drugs.name, dose, units, Periodicities.periodicity                         FROM Dosages JOIN Drugs JOIN Conditions JOIN Periodicities JOIN Delivery JOIN Ages                         ON Drugs.id = drug_id AND Periodicities.id = period_id AND age_id = Ages.id                         WHERE Drugs.name = \\'<drug_name>\\' AND Ages.age_group = \\'<age_group>\\' AND Delivery.method = \\'<delivery>\\'                          AND strength = \\'<strength>\\' \"\")\\', \"\"data = cur.fetchall(); answer_text = \\'The dosage for %s is %s %s per %s\\' % data[0]\"\", [3, 0, 2, 4], []]\"\\ninformation_retrieval+ingredient_question\\t\"[\\'cur.execute(\"\"SELECT ingredients                         FROM Drug_versions JOIN Drugs JOIN Delivery                           ON Drugs.id = drug_id AND Delivery.id = delivery_id                          WHERE Drugs.name = \\'<drug_name>\\' AND Delivery.method = \\'<delivery>\\'\"\")\\', \\'answer_text = cur.fetchall()[0][0]\\', [3, 2], []]\"\\ninformation_retrieval+should_question\\t\"[\\'cur.execute(\"\"SELECT advice                          FROM Contraindications JOIN Drugs JOIN Conditions                          ON drug_id = Drugs.id AND condition_id = Conditions.id                         WHERE Drugs.name = \\'<drug_name>\\' AND Conditions.condition = \\'<condition>\\'\"\")\\', \\'answer_text = cur.fetchall()[0][0]\\', [3, 1], []]\"\\ninformation_retrieval+side_effect_question\\t\"[\\'cur.execute(\"\"SELECT Symptoms.symptom, Severities.severity, Drugs.name, advice                         FROM Complaint JOIN Drugs JOIN Symptoms JOIN Severities                          ON Drugs.id = drug_id AND Symptoms.id = symptom_id AND Severities.id = severity_id                         WHERE Drugs.name = \\'<drug_name>\\' AND Symptoms.symptom = \\'<symptom>\\' \"\")\\', \"\"data = cur.fetchall(); answer_text = \\'%s is a %s side effect of %s. %s\\' % data[0]\"\", [3, 5], []]\"\\ninformation_retrieval+store_question\\t\"[\\'cur.execute(\"\"SELECT storage                         FROM Drug_versions JOIN Drugs JOIN Delivery                           ON Drugs.id = drug_id AND Delivery.id = delivery_id                          WHERE Drugs.name = \\'<drug_name>\\' AND Delivery.method = \\'<delivery>\\'\"\")\\', \\'answer_text = cur.fetchall()[0][0]\\', [3, 2], []]\"\\ninformation_retrieval+usage_question\\t\"[\\'cur.execute(\"\"SELECT instructions                          FROM Drug_versions JOIN Drugs JOIN Delivery                          ON drug_id = Drugs.id AND delivery_id = Delivery.id                         WHERE Drugs.name = \\'<drug_name>\\' AND Delivery.method = \\'<delivery>\\' \"\")\\', \\'answer_text = cur.fetchall()[0][0]\\', [3, 2], []]\"\\ninformation_retrieval+what_question\\t\"[\\'cur.execute(\"\"SELECT indication FROM Drugs WHERE name = \\'<drug_name>\\'\"\")\\', \\'answer_text = cur.fetchall()[0][0]\\', [3], []]\"\\nno_information\\t\"[\"\"data = \\'sorry, there is no information for that.\\' \"\", \\'answer_text = data\\', [], []]\"\\nrequest_information+<age_group>\\t\"[\"\"data = \\'for which age group?\\'\"\", \\'answer_text = data\\', [], [0]]\"\\nrequest_information+<condition>\\t\"[\"\"data = \\'<drug_name> may not be recommended for people with <contraindications>, do you have any of these?\\'\"\", \\'answer_text = data\\', [], [1]]\"\\nrequest_information+<delivery>\\t\"[\"\"data = \\'what version of <drug_name> is that, for example: oral, intravenous or subcutaneous?\\'\"\", \\'answer_text = data\\', [], [2]]\"\\nrequest_information+<strength>\\t\"[\"\"data = \\'what is the strength of the drug?\\'\"\", \\'answer_text = data\\', [], [4]]\"\\nrequest_information+<symptom>\\t\"[\"\"data = \\'these are some common side effects of <drug_name>: <side_effects>, are you seeing any other symptoms?\\'\"\", \\'answer_text = data\\', [], [5]]\"\\nrequest_information+<units>\\t\"[\"\"data = \\'What are the units of the drug?\\'\"\", \\'answer_text = data\\', [], [6]]\"\\nwelcomemsg\\t\"[\"\"data = \\'hello, what can I help you with today?\\' \"\", \\'answer_text = data\\', [], []]\"'"
      ]
     },
     "execution_count": 14,
     "metadata": {},
     "output_type": "execute_result"
    }
   ],
   "source": [
    "template"
   ]
  },
  {
   "cell_type": "code",
   "execution_count": 15,
   "metadata": {
    "collapsed": true
   },
   "outputs": [],
   "source": [
    "import copy, re"
   ]
  },
  {
   "cell_type": "code",
   "execution_count": 16,
   "metadata": {
    "collapsed": true
   },
   "outputs": [],
   "source": [
    "class DualTemplate():\n",
    "\n",
    "    def __init__(self, default=\"\", dontcare=\"\"):\n",
    "        self.default = default\n",
    "        self.dontcare = dontcare\n",
    "\n",
    "    @property\n",
    "    def dontcare_slots(self):\n",
    "        default_slots = self._slots(self.default)\n",
    "        dontcare_slots = self._slots(self.dontcare)\n",
    "        return default_slots - dontcare_slots\n",
    "\n",
    "    @staticmethod\n",
    "    def _slots(text):\n",
    "        return set(re.findall('#(\\w+)', text))\n",
    "\n",
    "    @classmethod\n",
    "    def from_str(cls, s):\n",
    "        return cls(*s.split('\\t', 1))\n",
    "\n",
    "    def update(self, default=\"\", dontcare=\"\"):\n",
    "        self.default = self.default or default\n",
    "        self.dontcare = self.dontcare or dontcare\n",
    "\n",
    "    def __contains__(self, t):\n",
    "        return t.default and (t.default == self.default)\\\n",
    "                or t.dontcare and (t.dontcare == self.dontcare)\n",
    "\n",
    "    def __eq__(self, other):\n",
    "        if isinstance(other, self.__class__):\n",
    "            return (self.default == other.default)\\\n",
    "                    and (self.dontcare == other.dontcare)\n",
    "        return False\n",
    "\n",
    "    def __hash__(self):\n",
    "        \"\"\"Override the default hash behavior (that returns the id)\"\"\"\n",
    "        return hash(self.default + '\\t' + self.dontcare)\n",
    "\n",
    "    def __str__(self):\n",
    "        return self.default + '\\t' + self.dontcare\n",
    "\n",
    "    def generate_text(self, slots):\n",
    "        t = copy.copy(self.default)\n",
    "        if isinstance(slots, dict):\n",
    "            slots = slots.items()\n",
    "        dontcare_slots = (s[0] for s in slots if s[1] == 'dontcare')\n",
    "        if self.dontcare and self.dontcare_slots.issubset(dontcare_slots):\n",
    "            t = copy.copy(self.dontcare)\n",
    "        for slot, value in slots:\n",
    "            t = t.replace('#' + slot, value, 1)\n",
    "        if t:\n",
    "            t = t[0].upper() + t[1:]\n",
    "        return t"
   ]
  },
  {
   "cell_type": "code",
   "execution_count": 17,
   "metadata": {
    "collapsed": true
   },
   "outputs": [],
   "source": [
    "s = \"Sorry, I can't hear you.\""
   ]
  },
  {
   "cell_type": "code",
   "execution_count": 18,
   "metadata": {},
   "outputs": [
    {
     "data": {
      "text/plain": [
       "\"Sorry, I can't hear you.\""
      ]
     },
     "execution_count": 18,
     "metadata": {},
     "output_type": "execute_result"
    }
   ],
   "source": [
    "DualTemplate.from_str(s).generate_text([])"
   ]
  },
  {
   "cell_type": "code",
   "execution_count": 19,
   "metadata": {},
   "outputs": [
    {
     "data": {
      "text/plain": [
       "\"Sorry, I can't hear you.\""
      ]
     },
     "execution_count": 19,
     "metadata": {},
     "output_type": "execute_result"
    }
   ],
   "source": [
    "DualTemplate.from_str(s).default"
   ]
  },
  {
   "cell_type": "code",
   "execution_count": 20,
   "metadata": {},
   "outputs": [
    {
     "data": {
      "text/plain": [
       "''"
      ]
     },
     "execution_count": 20,
     "metadata": {},
     "output_type": "execute_result"
    }
   ],
   "source": [
    "DualTemplate.from_str(s).dontcare"
   ]
  },
  {
   "cell_type": "code",
   "execution_count": 2,
   "metadata": {},
   "outputs": [],
   "source": [
    "action = \"data = 'no problem'\"\n",
    "answer = \"answer_text = data\"\n",
    "exec(action, locals())"
   ]
  },
  {
   "cell_type": "code",
   "execution_count": 3,
   "metadata": {
    "collapsed": true
   },
   "outputs": [],
   "source": [
    "exec(answer, locals())"
   ]
  },
  {
   "cell_type": "code",
   "execution_count": 4,
   "metadata": {},
   "outputs": [
    {
     "data": {
      "text/plain": [
       "'no problem'"
      ]
     },
     "execution_count": 4,
     "metadata": {},
     "output_type": "execute_result"
    }
   ],
   "source": [
    "locals()['answer_text']"
   ]
  },
  {
   "cell_type": "code",
   "execution_count": 6,
   "metadata": {
    "collapsed": true
   },
   "outputs": [],
   "source": [
    "import os"
   ]
  },
  {
   "cell_type": "code",
   "execution_count": 1,
   "metadata": {},
   "outputs": [],
   "source": [
    "s=\"a b c\""
   ]
  },
  {
   "cell_type": "code",
   "execution_count": 2,
   "metadata": {},
   "outputs": [
    {
     "data": {
      "text/plain": [
       "['a', 'b', 'c']"
      ]
     },
     "execution_count": 2,
     "metadata": {},
     "output_type": "execute_result"
    }
   ],
   "source": [
    "s.split(\" \", 2)"
   ]
  },
  {
   "cell_type": "code",
   "execution_count": null,
   "metadata": {
    "collapsed": true
   },
   "outputs": [],
   "source": []
  }
 ],
 "metadata": {
  "kernelspec": {
   "display_name": "Python 3",
   "language": "python",
   "name": "python3"
  },
  "language_info": {
   "codemirror_mode": {
    "name": "ipython",
    "version": 3
   },
   "file_extension": ".py",
   "mimetype": "text/x-python",
   "name": "python",
   "nbconvert_exporter": "python",
   "pygments_lexer": "ipython3",
   "version": "3.6.3"
  }
 },
 "nbformat": 4,
 "nbformat_minor": 2
}
