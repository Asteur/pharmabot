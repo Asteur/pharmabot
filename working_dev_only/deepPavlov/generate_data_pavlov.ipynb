{
 "cells": [
  {
   "cell_type": "code",
   "execution_count": 1,
   "metadata": {
    "collapsed": true
   },
   "outputs": [],
   "source": [
    "from novartis_config import questions, optional_info, additional_qs, req_sub_dict\n",
    "import sqlite3, random, re, copy, pickle\n",
    "from utils import sub_reqs, get_entities\n",
    "from synthetic_pharma_data import get_settings\n",
    "from random import shuffle"
   ]
  },
  {
   "cell_type": "code",
   "execution_count": 2,
   "metadata": {
    "collapsed": true
   },
   "outputs": [],
   "source": [
    "import os\n",
    "import json"
   ]
  },
  {
   "cell_type": "code",
   "execution_count": 3,
   "metadata": {
    "collapsed": true
   },
   "outputs": [],
   "source": [
    "download_path = '../deepPavlov/DeepPavlov/download/pharma'"
   ]
  },
  {
   "cell_type": "code",
   "execution_count": 4,
   "metadata": {
    "collapsed": true
   },
   "outputs": [],
   "source": [
    "from collections import OrderedDict"
   ]
  },
  {
   "cell_type": "code",
   "execution_count": 5,
   "metadata": {
    "collapsed": true
   },
   "outputs": [],
   "source": [
    "tag_dict = {1: 'what_question', 2: 'should_question', 3: 'usage_question', \n",
    "            4: 'dose_question', 5: 'side_effect_question', 6: 'store_question', 7: 'ingredient_question'}"
   ]
  },
  {
   "cell_type": "code",
   "execution_count": 6,
   "metadata": {
    "collapsed": true
   },
   "outputs": [],
   "source": [
    "question_tag_dict = OrderedDict(tag_dict)"
   ]
  },
  {
   "cell_type": "code",
   "execution_count": 7,
   "metadata": {},
   "outputs": [
    {
     "data": {
      "text/plain": [
       "OrderedDict([(1, 'what_question'),\n",
       "             (2, 'should_question'),\n",
       "             (3, 'usage_question'),\n",
       "             (4, 'dose_question'),\n",
       "             (5, 'side_effect_question'),\n",
       "             (6, 'store_question'),\n",
       "             (7, 'ingredient_question')])"
      ]
     },
     "execution_count": 7,
     "metadata": {},
     "output_type": "execute_result"
    }
   ],
   "source": [
    "question_tag_dict"
   ]
  },
  {
   "cell_type": "code",
   "execution_count": 8,
   "metadata": {
    "collapsed": true
   },
   "outputs": [],
   "source": [
    "database = 'NovartisQA'\n",
    "output = 'dialogues_new_'"
   ]
  },
  {
   "cell_type": "code",
   "execution_count": 9,
   "metadata": {
    "collapsed": true
   },
   "outputs": [],
   "source": [
    "entity_dict = get_entities('entities.txt')\n",
    "context_keys = sorted(entity_dict.keys())"
   ]
  },
  {
   "cell_type": "code",
   "execution_count": 9,
   "metadata": {
    "collapsed": true
   },
   "outputs": [],
   "source": [
    "# connect to database\n",
    "conn = sqlite3.connect(database+'.sqlite')\n",
    "cur = conn.cursor()\n",
    "\n",
    "# get list of id for questions from table\n",
    "cur.execute('SELECT id FROM Questions')\n",
    "question_ids = cur.fetchall()"
   ]
  },
  {
   "cell_type": "code",
   "execution_count": 10,
   "metadata": {
    "collapsed": true
   },
   "outputs": [],
   "source": [
    "openings = ['hello', 'hi', 'good morning', 'hi there', 'good evening', 'good afternoon']"
   ]
  },
  {
   "cell_type": "code",
   "execution_count": 11,
   "metadata": {
    "collapsed": true
   },
   "outputs": [],
   "source": [
    "endings = ['thank you','thanks','ok thanks']"
   ]
  },
  {
   "cell_type": "code",
   "execution_count": 12,
   "metadata": {
    "collapsed": true
   },
   "outputs": [],
   "source": [
    "def gen_opening(i, greeting):\n",
    "    user = {}\n",
    "    user['index'] = i\n",
    "    user['text'] = greeting\n",
    "    user['goal'] = {'greeting': greeting}\n",
    "    user['db_result'] = None\n",
    "    user['dialog_acts'] = []\n",
    "    bot = {\"index\": i, \"text\": \"hello, what can I help you with today?\", \n",
    "           \"dialog_acts\": [{\"act\": \"welcomemsg\", \"slot\": []}]}\n",
    "    return user, bot"
   ]
  },
  {
   "cell_type": "code",
   "execution_count": 13,
   "metadata": {
    "collapsed": true
   },
   "outputs": [],
   "source": [
    "def gen_ending(i, bye):\n",
    "    user = {}\n",
    "    user['index'] = i\n",
    "    user['text'] = bye\n",
    "    user['goal'] = {'bye': bye}\n",
    "    user['db_result'] = None\n",
    "    user['dialog_acts'] = []\n",
    "    bot = {\"index\": i, \"text\": 'no problem', \"dialog_acts\": [{\"act\": 'bye', \"slot\": []}]}\n",
    "    return user, bot"
   ]
  },
  {
   "cell_type": "code",
   "execution_count": 14,
   "metadata": {},
   "outputs": [
    {
     "data": {
      "text/plain": [
       "[(1,), (2,), (3,), (4,), (5,), (6,), (7,)]"
      ]
     },
     "execution_count": 14,
     "metadata": {},
     "output_type": "execute_result"
    }
   ],
   "source": [
    "question_ids"
   ]
  },
  {
   "cell_type": "code",
   "execution_count": 15,
   "metadata": {
    "collapsed": true
   },
   "outputs": [],
   "source": [
    "def select_question(question_id, id2tag):\n",
    "    cur.execute('SELECT * FROM Questions WHERE id = ?', (question_id, ))\n",
    "    question_data = cur.fetchall()[0]\n",
    "    tag = id2tag[question_id]\n",
    "    question_formats = [q for q in list(question_data[1:5]) if q]\n",
    "    # sql query\n",
    "    query = question_data[5]\n",
    "    # answer\n",
    "    answer = question_data[6]\n",
    "    # required slots\n",
    "    required_fields = question_data[7].split(',')\n",
    "    question_text = question_formats[random.randint(0, len(question_formats)-1)] + '?'\n",
    "    return question_text, tag, query, answer, required_fields"
   ]
  },
  {
   "cell_type": "code",
   "execution_count": 16,
   "metadata": {},
   "outputs": [
    {
     "data": {
      "text/plain": [
       "('can i take <drug_name>?',\n",
       " 'should_question',\n",
       " \"SELECT advice \\n                         FROM Contraindications JOIN Drugs JOIN Conditions \\n                         ON drug_id = Drugs.id AND condition_id = Conditions.id\\n                         WHERE Drugs.name = '<drug_name>' AND Conditions.condition = '<condition>'\",\n",
       " 'answer_text = cur.fetchall()[0][0]',\n",
       " ['<drug_name>', '<condition>'])"
      ]
     },
     "execution_count": 16,
     "metadata": {},
     "output_type": "execute_result"
    }
   ],
   "source": [
    "select_question(2, question_tag_dict)"
   ]
  },
  {
   "cell_type": "code",
   "execution_count": 17,
   "metadata": {
    "collapsed": true
   },
   "outputs": [],
   "source": [
    "# {\"index\": i, \"text\": question_text, \"goals\" : {\"question\": tag}, \"db_result\": null, \"dialog_acts\": [{\"slots\": [[]], \"act\": \"question\"}]}\n",
    "def gen_question(i, question_text, tag, slots):\n",
    "    goal = {\"question\": tag}\n",
    "    dialog_acts = []\n",
    "    dialog_acts[\"act\"] = \"question\"\n",
    "    dialog_acts[\"slots\"] = slots\n",
    "    return {\"index\": i, \"text\": question_text, \"goal\": goal, \"db_result\": None, \"dialog_acts\": dialog_acts}"
   ]
  },
  {
   "cell_type": "code",
   "execution_count": 30,
   "metadata": {
    "collapsed": true
   },
   "outputs": [],
   "source": [
    "def answer_quest(curr_dialogue, query, context_details):\n",
    "    query = sub_reqs(cur, query, req_sub_dict, context_details)\n",
    "    print(query)\n",
    "    cur.execute(query)\n",
    "    try:\n",
    "        answer = cur.fetchall()[0][0]\n",
    "        print(answer)\n",
    "        curr_dialogue += [str(-1) + ' ' + answer]\n",
    "    except Exception as e:\n",
    "        print(e)\n",
    "        curr_dialogue += [str( - 1) + ' '\n",
    "                       + 'sorry, there is no information for that']\n",
    "    return curr_dialogue"
   ]
  },
  {
   "cell_type": "code",
   "execution_count": 40,
   "metadata": {
    "collapsed": true
   },
   "outputs": [],
   "source": [
    "context_details = get_settings()"
   ]
  },
  {
   "cell_type": "code",
   "execution_count": 41,
   "metadata": {},
   "outputs": [
    {
     "data": {
      "text/plain": [
       "{'<age_group>': 'elderly',\n",
       " '<condition>': 'heart_problems',\n",
       " '<delivery>': 'subcutaneous',\n",
       " '<drug_name>': 'Nifedipine',\n",
       " '<strength>': '50',\n",
       " '<symptom>': 'fever',\n",
       " '<units>': 'mg'}"
      ]
     },
     "execution_count": 41,
     "metadata": {},
     "output_type": "execute_result"
    }
   ],
   "source": [
    "context_details"
   ]
  },
  {
   "cell_type": "code",
   "execution_count": 42,
   "metadata": {
    "collapsed": true
   },
   "outputs": [],
   "source": [
    "context_details['<drug_name>'] = 'HYDROCORTISONE'\n",
    "context_details['<condition>'] = 'anxiety'"
   ]
  },
  {
   "cell_type": "code",
   "execution_count": 43,
   "metadata": {},
   "outputs": [
    {
     "data": {
      "text/plain": [
       "{'<age_group>': 'elderly',\n",
       " '<condition>': 'anxiety',\n",
       " '<delivery>': 'subcutaneous',\n",
       " '<drug_name>': 'HYDROCORTISONE',\n",
       " '<strength>': '50',\n",
       " '<symptom>': 'fever',\n",
       " '<units>': 'mg'}"
      ]
     },
     "execution_count": 43,
     "metadata": {},
     "output_type": "execute_result"
    }
   ],
   "source": [
    "context_details"
   ]
  },
  {
   "cell_type": "code",
   "execution_count": 49,
   "metadata": {
    "collapsed": true
   },
   "outputs": [],
   "source": [
    "_, _, query, answer, _= select_question(1, question_tag_dict)"
   ]
  },
  {
   "cell_type": "code",
   "execution_count": 50,
   "metadata": {},
   "outputs": [
    {
     "data": {
      "text/plain": [
       "\"SELECT indication FROM Drugs WHERE name = '<drug_name>'\""
      ]
     },
     "execution_count": 50,
     "metadata": {},
     "output_type": "execute_result"
    }
   ],
   "source": [
    "query"
   ]
  },
  {
   "cell_type": "code",
   "execution_count": 51,
   "metadata": {},
   "outputs": [
    {
     "data": {
      "text/plain": [
       "'answer_text = cur.fetchall()[0][0]'"
      ]
     },
     "execution_count": 51,
     "metadata": {},
     "output_type": "execute_result"
    }
   ],
   "source": [
    "answer"
   ]
  },
  {
   "cell_type": "code",
   "execution_count": 52,
   "metadata": {
    "collapsed": true
   },
   "outputs": [],
   "source": [
    "query = sub_reqs(cur, query, req_sub_dict, context_details)"
   ]
  },
  {
   "cell_type": "code",
   "execution_count": 53,
   "metadata": {},
   "outputs": [
    {
     "data": {
      "text/plain": [
       "\"SELECT indication FROM Drugs WHERE name = 'HYDROCORTISONE'\""
      ]
     },
     "execution_count": 53,
     "metadata": {},
     "output_type": "execute_result"
    }
   ],
   "source": [
    "query"
   ]
  },
  {
   "cell_type": "code",
   "execution_count": 54,
   "metadata": {},
   "outputs": [
    {
     "data": {
      "text/plain": [
       "<sqlite3.Cursor at 0x10888f420>"
      ]
     },
     "execution_count": 54,
     "metadata": {},
     "output_type": "execute_result"
    }
   ],
   "source": [
    "cur.execute(query)"
   ]
  },
  {
   "cell_type": "code",
   "execution_count": 55,
   "metadata": {},
   "outputs": [
    {
     "data": {
      "text/plain": [
       "[('Hydrocortisone acetate suppositories are indicated for use in inflamed hemorrhoids, post-irradiation (factitial) proctitis; as an adjunct in the treatment of chronic ulcerative colitis; cryptitis; and other inflammatory conditions of anorectum and pruritus ani.',)]"
      ]
     },
     "execution_count": 55,
     "metadata": {},
     "output_type": "execute_result"
    }
   ],
   "source": [
    "cur.fetchall()"
   ]
  },
  {
   "cell_type": "code",
   "execution_count": null,
   "metadata": {
    "collapsed": true
   },
   "outputs": [],
   "source": [
    "exec(globals()['answer'], globals())"
   ]
  },
  {
   "cell_type": "code",
   "execution_count": 31,
   "metadata": {},
   "outputs": [
    {
     "name": "stdout",
     "output_type": "stream",
     "text": [
      "SELECT advice \n",
      "                         FROM Contraindications JOIN Drugs JOIN Conditions \n",
      "                         ON drug_id = Drugs.id AND condition_id = Conditions.id\n",
      "                         WHERE Drugs.name = 'HYDROCORTISONE' AND Conditions.condition = 'anxiety'\n",
      "list index out of range\n"
     ]
    },
    {
     "data": {
      "text/plain": [
       "['-1 sorry, there is no information for that']"
      ]
     },
     "execution_count": 31,
     "metadata": {},
     "output_type": "execute_result"
    }
   ],
   "source": [
    "answer_quest([], query, context_details)"
   ]
  },
  {
   "cell_type": "code",
   "execution_count": 61,
   "metadata": {
    "collapsed": true
   },
   "outputs": [],
   "source": [
    "class gen_dialogue(object):\n",
    "    \"\"\"\n",
    "    generate dialogues for a question, given question_id\n",
    "    \"\"\"\n",
    "    def __init__(self, context_details, question_id, id2tag):\n",
    "        self.context = context_details\n",
    "        self.question_text, self.tag, self.query, self.answer, self.required_fields = select_question(question_id, \n",
    "                                                                                                      id2tag)\n",
    "        self.curr_slots = {}\n",
    "        # randomly add additional information for certain questions\n",
    "        for opt, versions in optional_info.items():\n",
    "            if opt in self.required_fields and random.randint(0, 1):\n",
    "                version = random.choice(versions)\n",
    "                question_text = self.question_text[:-1] + ' ' + version + '?'\n",
    "        \n",
    "    def update(self, field):\n",
    "        if field not in self.required_fields:\n",
    "            self.curr_slots.pop(field, None)\n",
    "            self.required_fields.append(field)\n",
    "        self.context[field] = get_settings()[field]\n",
    "        \n",
    "    def sub_reqs(self, text, req_sub_dict, act=None):\n",
    "        # for user's question, inform, update\n",
    "        context_details = self.context\n",
    "        dialog_acts = {}\n",
    "        dialog_acts['slots'] = []\n",
    "        goals ={}\n",
    "        for requirement in req_sub_dict.keys():\n",
    "            if requirement in text:\n",
    "                exec(req_sub_dict[requirement][0], locals())\n",
    "                # test = cur.fetchall()\n",
    "                exec(req_sub_dict[requirement][1], locals())\n",
    "                value = locals()['sub_data']\n",
    "                text = re.sub(requirement, value, text)\n",
    "                self.curr_slots[requirement] = value\n",
    "                self.required_fields.remove(requirement)\n",
    "                dialog_acts['slots'].append([requirement, value])\n",
    "        if act:\n",
    "            dialog_acts['act'] = act\n",
    "            if act == 'question':\n",
    "                goals['question'] = self.tag\n",
    "            else:\n",
    "                goals['act'] = act\n",
    "        return text, goals, [dialog_acts]\n",
    "    \n",
    "    def answer_question(self, req_sub_dict):\n",
    "        # bot answer the question\n",
    "        assert not self.required_fields\n",
    "        query = sub_reqs(cur, self.query, req_sub_dict, self.context)\n",
    "        cur.execute(query)\n",
    "        try:\n",
    "            exec(self.answer, globals())\n",
    "            answer_text = globals()['answer_text']\n",
    "        except:\n",
    "            answer_text = 'sorry, there is no information for that.'\n",
    "            \n",
    "        dialog_acts = {'act' : 'information_retrieval'}\n",
    "        return answer_text, [dialog_acts]\n",
    "    \n",
    "    def request_information(self, requirement, additional_qs):\n",
    "        assert requirement in self.required_fields\n",
    "        text = additional_qs[requirement]\n",
    "        for field, value in self.context.items():\n",
    "            if field in text:\n",
    "                text = re.sub(field, value, text)\n",
    "        dialog_acts = {'act' : 'request_information'}\n",
    "        return text, [dialog_acts]"
   ]
  },
  {
   "cell_type": "code",
   "execution_count": 62,
   "metadata": {
    "collapsed": true
   },
   "outputs": [],
   "source": [
    "# generate synthetic dialogue data\n",
    "def gen_data(num_dialogues):\n",
    "    dialogues = []\n",
    "    for d in range(num_dialogues):\n",
    "        curr_dialogue = []\n",
    "        curr_idx = 0\n",
    "    \n",
    "        # maybe say hello\n",
    "        if random.randint(0, 1) == 1:\n",
    "            user_line, bot_line = gen_opening(curr_idx, random.choice(openings))\n",
    "            curr_dialogue.append(user_line)\n",
    "            curr_dialogue.append(bot_line)\n",
    "            curr_idx += 1\n",
    "\n",
    "        # select a question and format\n",
    "        question_id = random.randint(1, len(question_ids))\n",
    "    \n",
    "        # generate required fields from available options\n",
    "        context_details = get_settings()\n",
    "        dialogue = gen_dialogue(context_details, question_id, question_tag_dict)\n",
    "        required_fields = dialogue.required_fields[:]\n",
    "    \n",
    "        # ask the question\n",
    "        text, goals, dialog_acts = dialogue.sub_reqs(dialogue.question_text, req_sub_dict, act='question')\n",
    "        user_line = {'index': curr_idx, 'text': text, 'goals': goals, \"dialog_acts\": dialog_acts}\n",
    "        curr_dialogue.append(user_line)\n",
    "    \n",
    "        # TODO not picking up conditions, check for required information\n",
    "        for field in dialogue.required_fields[:]:\n",
    "            text, dialog_acts = dialogue.request_information(field, additional_qs)\n",
    "            bot_line = {'index': curr_idx, 'text': text, 'dialog_acts': dialog_acts}\n",
    "            curr_dialogue.append(bot_line)\n",
    "            curr_idx += 1\n",
    "            text, goals, dialog_acts = dialogue.sub_reqs(field, req_sub_dict, 'inform')\n",
    "            user_line = {'index': curr_idx, 'text': text, 'goals': goals, \"dialog_acts\": dialog_acts}\n",
    "            curr_dialogue.append(user_line)\n",
    "        \n",
    "        text, dialog_acts = dialogue.answer_question(req_sub_dict)\n",
    "        bot_line = {'index': curr_idx, 'text': text, 'dialog_acts': dialog_acts}\n",
    "        curr_dialogue.append(bot_line)\n",
    "        curr_idx += 1\n",
    "    \n",
    "        # correct information\n",
    "        num_updates = random.randint(0, min(2,len(required_fields)))\n",
    "        requirements = random.sample(required_fields, num_updates)\n",
    "        for requirement in requirements:\n",
    "            dialogue.update(requirement)\n",
    "            text, goals, dialog_acts = dialogue.sub_reqs(requirement, req_sub_dict, 'update')\n",
    "            user_line = {'index': curr_idx, 'text': 'actually i meant '+ text, 'goals': goals, 'dialog_acts': dialog_acts}\n",
    "            curr_dialogue.append(user_line)\n",
    "            bot_line = {'index': curr_idx, 'text': 'ok, is there anything else to update?', 'dialog_acts': [{'act':'check_update'}]}\n",
    "            curr_dialogue.append(bot_line)\n",
    "            curr_idx += 1\n",
    "        if num_updates > 0:\n",
    "            user_line = {'index': curr_idx, 'text': 'no', 'goals': {}, 'dialog_acts': []}\n",
    "            curr_dialogue.append(user_line)\n",
    "            text, dialog_acts = dialogue.answer_question(req_sub_dict)\n",
    "            bot_line = {'index': curr_idx, 'text': text, 'dialog_acts': dialog_acts}\n",
    "            curr_dialogue.append(bot_line)\n",
    "            curr_idx += 1\n",
    "\n",
    "        # maybe say thank you\n",
    "        if random.randint(0,1) == 1:\n",
    "            user_line, bot_line = gen_ending(curr_idx, random.choice(endings))\n",
    "            curr_dialogue.append(user_line)\n",
    "            curr_dialogue.append(bot_line)\n",
    "            curr_idx += 1\n",
    "\n",
    "        dialogues.append(curr_dialogue)\n",
    "    return dialogues"
   ]
  },
  {
   "cell_type": "code",
   "execution_count": 63,
   "metadata": {},
   "outputs": [
    {
     "data": {
      "text/plain": [
       "[[{'db_result': None,\n",
       "   'dialog_acts': [],\n",
       "   'goal': {'greeting': 'good afternoon'},\n",
       "   'index': 0,\n",
       "   'text': 'good afternoon'},\n",
       "  {'dialog_acts': [{'act': 'welcomemsg', 'slot': []}],\n",
       "   'index': 0,\n",
       "   'text': 'hello, what can I help you with today?'},\n",
       "  {'dialog_acts': [{'act': 'question',\n",
       "     'slots': [['<drug_name>', 'Anthim'], ['<symptom>', 'depression']]}],\n",
       "   'goals': {'question': 'side_effect_question'},\n",
       "   'index': 1,\n",
       "   'text': 'is it normal to have depression with Anthim?'},\n",
       "  {'dialog_acts': [{'act': 'information_retrieval'}],\n",
       "   'index': 1,\n",
       "   'text': 'depression is a common side effect of Anthim. The following clinically important adverse reactions are described elsewhere in the labeling: Hypersensitivity and Anaphylaxis [see Warnings and Precautions ( 5.1 )].'},\n",
       "  {'dialog_acts': [{'act': 'update', 'slots': [['<symptom>', 'bleeding']]}],\n",
       "   'goals': {'act': 'update'},\n",
       "   'index': 2,\n",
       "   'text': 'actually i meant bleeding'},\n",
       "  {'dialog_acts': [{'act': 'check_update'}],\n",
       "   'index': 2,\n",
       "   'text': 'ok, is there anything else to update?'},\n",
       "  {'dialog_acts': [{'act': 'update',\n",
       "     'slots': [['<drug_name>', 'Colistimethate']]}],\n",
       "   'goals': {'act': 'update'},\n",
       "   'index': 3,\n",
       "   'text': 'actually i meant Colistimethate'},\n",
       "  {'dialog_acts': [{'act': 'check_update'}],\n",
       "   'index': 3,\n",
       "   'text': 'ok, is there anything else to update?'},\n",
       "  {'dialog_acts': [], 'goals': {}, 'index': 4, 'text': 'no'},\n",
       "  {'dialog_acts': [{'act': 'information_retrieval'}],\n",
       "   'index': 4,\n",
       "   'text': 'sorry, there is no information for that.'}],\n",
       " [{'db_result': None,\n",
       "   'dialog_acts': [],\n",
       "   'goal': {'greeting': 'good morning'},\n",
       "   'index': 0,\n",
       "   'text': 'good morning'},\n",
       "  {'dialog_acts': [{'act': 'welcomemsg', 'slot': []}],\n",
       "   'index': 0,\n",
       "   'text': 'hello, what can I help you with today?'},\n",
       "  {'dialog_acts': [{'act': 'question',\n",
       "     'slots': [['<drug_name>', 'Marcaine'], ['<symptom>', 'depression']]}],\n",
       "   'goals': {'question': 'side_effect_question'},\n",
       "   'index': 1,\n",
       "   'text': 'does Marcaine cause depression?'},\n",
       "  {'dialog_acts': [{'act': 'information_retrieval'}],\n",
       "   'index': 1,\n",
       "   'text': 'depression is a common side effect of Marcaine. Reactions to MARCAINE are characteristic of those associated with other amide-type local anesthetics. A major cause of adverse reactions to this group of drugs is excessive plasma levels, which may be due to overdosage, unintentional intravascular injection, or slow metabolic degradation. The most commonly encountered acute adverse experiences which demand immediate counter-measures are related to the central nervous system and the cardiovascular system. These adverse experiences are generally dose related and due to high plasma levels which may result from overdosage, rapid absorption from the injection site, diminished tolerance, or from unintentional intravascular injection of the local a'},\n",
       "  {'dialog_acts': [{'act': 'update', 'slots': [['<symptom>', 'depression']]}],\n",
       "   'goals': {'act': 'update'},\n",
       "   'index': 2,\n",
       "   'text': 'actually i meant depression'},\n",
       "  {'dialog_acts': [{'act': 'check_update'}],\n",
       "   'index': 2,\n",
       "   'text': 'ok, is there anything else to update?'},\n",
       "  {'dialog_acts': [], 'goals': {}, 'index': 3, 'text': 'no'},\n",
       "  {'dialog_acts': [{'act': 'information_retrieval'}],\n",
       "   'index': 3,\n",
       "   'text': 'depression is a common side effect of Marcaine. Reactions to MARCAINE are characteristic of those associated with other amide-type local anesthetics. A major cause of adverse reactions to this group of drugs is excessive plasma levels, which may be due to overdosage, unintentional intravascular injection, or slow metabolic degradation. The most commonly encountered acute adverse experiences which demand immediate counter-measures are related to the central nervous system and the cardiovascular system. These adverse experiences are generally dose related and due to high plasma levels which may result from overdosage, rapid absorption from the injection site, diminished tolerance, or from unintentional intravascular injection of the local a'},\n",
       "  {'db_result': None,\n",
       "   'dialog_acts': [],\n",
       "   'goal': {'bye': 'thank you'},\n",
       "   'index': 4,\n",
       "   'text': 'thank you'},\n",
       "  {'dialog_acts': [{'act': 'bye', 'slot': []}],\n",
       "   'index': 4,\n",
       "   'text': 'no problem'}]]"
      ]
     },
     "execution_count": 63,
     "metadata": {},
     "output_type": "execute_result"
    }
   ],
   "source": [
    "gen_data(2)"
   ]
  },
  {
   "cell_type": "code",
   "execution_count": 64,
   "metadata": {},
   "outputs": [
    {
     "data": {
      "text/plain": [
       "[[{'db_result': None,\n",
       "   'dialog_acts': [],\n",
       "   'goal': {'greeting': 'good evening'},\n",
       "   'index': 0,\n",
       "   'text': 'good evening'},\n",
       "  {'dialog_acts': [{'act': 'welcomemsg', 'slot': []}],\n",
       "   'index': 0,\n",
       "   'text': 'hello, what can I help you with today?'},\n",
       "  {'dialog_acts': [{'act': 'question', 'slots': [['<drug_name>', 'Oracea']]}],\n",
       "   'goals': {'question': 'ingredient_question'},\n",
       "   'index': 1,\n",
       "   'text': 'does Oracea contain <ingredient>?'},\n",
       "  {'dialog_acts': [{'act': 'request_information'}],\n",
       "   'index': 1,\n",
       "   'text': 'what version of Oracea is that, for example: oral, intravenous or subcutaneous?'},\n",
       "  {'dialog_acts': [{'act': 'inform',\n",
       "     'slots': [['<delivery>', 'subcutaneous']]}],\n",
       "   'goals': {'act': 'inform'},\n",
       "   'index': 2,\n",
       "   'text': 'subcutaneous'},\n",
       "  {'dialog_acts': [{'act': 'information_retrieval'}],\n",
       "   'index': 2,\n",
       "   'text': 'DOXYCYCLINE,HYPROMELLOSE,FERRIC OXIDE RED,FERRIC OXIDE YELLOW,METHACRYLIC ACID - ETHYL ACRYLATE COPOLYMER (1:1) TYPE A,POLYETHYLENE GLYCOL,POLYSORBATE 80,TALC,TITANIUM DIOXIDE,TRIETHYL CITRATE'},\n",
       "  {'dialog_acts': [{'act': 'update',\n",
       "     'slots': [['<drug_name>', 'Methylprednisolone']]}],\n",
       "   'goals': {'act': 'update'},\n",
       "   'index': 3,\n",
       "   'text': 'actually i meant Methylprednisolone'},\n",
       "  {'dialog_acts': [{'act': 'check_update'}],\n",
       "   'index': 3,\n",
       "   'text': 'ok, is there anything else to update?'},\n",
       "  {'dialog_acts': [], 'goals': {}, 'index': 4, 'text': 'no'},\n",
       "  {'dialog_acts': [{'act': 'information_retrieval'}],\n",
       "   'index': 4,\n",
       "   'text': 'METHYLPREDNISOLONE SODIUM SUCCINATE,SODIUM PHOSPHATE, MONOBASIC, ANHYDROUS,SODIUM PHOSPHATE, DIBASIC, ANHYDROUS,LACTOSE MONOHYDRATE,SODIUM HYDROXIDE,METHYLPREDNISOLONE SODIUM SUCCINATE,SODIUM PHOSPHATE, MONOBASIC, ANHYDROUS,SODIUM PHOSPHATE, DIBASIC, ANHYDROUS,SODIUM HYDROXIDE,METHYLPREDNISOLONE SODIUM SUCCINATE,SODIUM PHOSPHATE, MONOBASIC, ANHYDROUS,SODIUM PHOSPHATE, DIBASIC, ANHYDROUS,SODIUM HYDROXIDE,METHYLPREDNISOLONE SODIUM SUCCINATE,SODIUM PHOSPHATE, MONOBASIC, ANHYDROUS,SODIUM PHOSPHATE, DIBASIC, ANHYDROUS,SODIUM HYDROXIDE'},\n",
       "  {'db_result': None,\n",
       "   'dialog_acts': [],\n",
       "   'goal': {'bye': 'thank you'},\n",
       "   'index': 5,\n",
       "   'text': 'thank you'},\n",
       "  {'dialog_acts': [{'act': 'bye', 'slot': []}],\n",
       "   'index': 5,\n",
       "   'text': 'no problem'}],\n",
       " [{'dialog_acts': [{'act': 'question', 'slots': [['<drug_name>', 'Calcium']]}],\n",
       "   'goals': {'question': 'store_question'},\n",
       "   'index': 0,\n",
       "   'text': 'do I need to keep Calcium in the fridge?'},\n",
       "  {'dialog_acts': [{'act': 'request_information'}],\n",
       "   'index': 0,\n",
       "   'text': 'what version of Calcium is that, for example: oral, intravenous or subcutaneous?'},\n",
       "  {'dialog_acts': [{'act': 'inform',\n",
       "     'slots': [['<delivery>', 'subcutaneous']]}],\n",
       "   'goals': {'act': 'inform'},\n",
       "   'index': 1,\n",
       "   'text': 'subcutaneous'},\n",
       "  {'dialog_acts': [{'act': 'information_retrieval'}],\n",
       "   'index': 1,\n",
       "   'text': 'storage instructions for drug Calcium'},\n",
       "  {'dialog_acts': [{'act': 'update', 'slots': [['<delivery>', 'oral']]}],\n",
       "   'goals': {'act': 'update'},\n",
       "   'index': 2,\n",
       "   'text': 'actually i meant oral'},\n",
       "  {'dialog_acts': [{'act': 'check_update'}],\n",
       "   'index': 2,\n",
       "   'text': 'ok, is there anything else to update?'},\n",
       "  {'dialog_acts': [{'act': 'update',\n",
       "     'slots': [['<drug_name>', 'ATRACURIUM']]}],\n",
       "   'goals': {'act': 'update'},\n",
       "   'index': 3,\n",
       "   'text': 'actually i meant ATRACURIUM'},\n",
       "  {'dialog_acts': [{'act': 'check_update'}],\n",
       "   'index': 3,\n",
       "   'text': 'ok, is there anything else to update?'},\n",
       "  {'dialog_acts': [], 'goals': {}, 'index': 4, 'text': 'no'},\n",
       "  {'dialog_acts': [{'act': 'information_retrieval'}],\n",
       "   'index': 4,\n",
       "   'text': 'storage instructions for drug ATRACURIUM'}]]"
      ]
     },
     "execution_count": 64,
     "metadata": {},
     "output_type": "execute_result"
    }
   ],
   "source": [
    "gen_data(2)"
   ]
  }
 ],
 "metadata": {
  "kernelspec": {
   "display_name": "Python 3",
   "language": "python",
   "name": "python3"
  },
  "language_info": {
   "codemirror_mode": {
    "name": "ipython",
    "version": 3
   },
   "file_extension": ".py",
   "mimetype": "text/x-python",
   "name": "python",
   "nbconvert_exporter": "python",
   "pygments_lexer": "ipython3",
   "version": "3.6.3"
  }
 },
 "nbformat": 4,
 "nbformat_minor": 2
}
